{
  "nbformat": 4,
  "nbformat_minor": 0,
  "metadata": {
    "colab": {
      "provenance": []
    },
    "kernelspec": {
      "name": "python3",
      "display_name": "Python 3"
    }
  },
  "cells": [
    {
      "cell_type": "code",
      "metadata": {
        "id": "4NKi_-YIxTcL",
        "colab": {
          "base_uri": "https://localhost:8080/",
          "height": 206
        },
        "outputId": "2e9539d8-0a8f-4f92-f9d5-b50f5d9a313e"
      },
      "source": [
        "# Import the required modules and load the dataset.\n",
        "\n",
        "import numpy as np\n",
        "import pandas as pd\n",
        "import matplotlib.pyplot as plt\n",
        "import seaborn as sns\n",
        "\n",
        "df=pd.read_csv('https://s3-student-datasets-bucket.whjr.online/whitehat-ds-datasets/house-prices.csv')\n",
        "df.head()"
      ],
      "execution_count": null,
      "outputs": [
        {
          "output_type": "execute_result",
          "data": {
            "text/html": [
              "<div>\n",
              "<style scoped>\n",
              "    .dataframe tbody tr th:only-of-type {\n",
              "        vertical-align: middle;\n",
              "    }\n",
              "\n",
              "    .dataframe tbody tr th {\n",
              "        vertical-align: top;\n",
              "    }\n",
              "\n",
              "    .dataframe thead th {\n",
              "        text-align: right;\n",
              "    }\n",
              "</style>\n",
              "<table border=\"1\" class=\"dataframe\">\n",
              "  <thead>\n",
              "    <tr style=\"text-align: right;\">\n",
              "      <th></th>\n",
              "      <th>price</th>\n",
              "      <th>area</th>\n",
              "      <th>bedrooms</th>\n",
              "      <th>bathrooms</th>\n",
              "      <th>stories</th>\n",
              "      <th>mainroad</th>\n",
              "      <th>guestroom</th>\n",
              "      <th>basement</th>\n",
              "      <th>hotwaterheating</th>\n",
              "      <th>airconditioning</th>\n",
              "      <th>parking</th>\n",
              "      <th>prefarea</th>\n",
              "      <th>furnishingstatus</th>\n",
              "    </tr>\n",
              "  </thead>\n",
              "  <tbody>\n",
              "    <tr>\n",
              "      <th>0</th>\n",
              "      <td>13300000</td>\n",
              "      <td>7420</td>\n",
              "      <td>4</td>\n",
              "      <td>2</td>\n",
              "      <td>3</td>\n",
              "      <td>yes</td>\n",
              "      <td>no</td>\n",
              "      <td>no</td>\n",
              "      <td>no</td>\n",
              "      <td>yes</td>\n",
              "      <td>2</td>\n",
              "      <td>yes</td>\n",
              "      <td>furnished</td>\n",
              "    </tr>\n",
              "    <tr>\n",
              "      <th>1</th>\n",
              "      <td>12250000</td>\n",
              "      <td>8960</td>\n",
              "      <td>4</td>\n",
              "      <td>4</td>\n",
              "      <td>4</td>\n",
              "      <td>yes</td>\n",
              "      <td>no</td>\n",
              "      <td>no</td>\n",
              "      <td>no</td>\n",
              "      <td>yes</td>\n",
              "      <td>3</td>\n",
              "      <td>no</td>\n",
              "      <td>furnished</td>\n",
              "    </tr>\n",
              "    <tr>\n",
              "      <th>2</th>\n",
              "      <td>12250000</td>\n",
              "      <td>9960</td>\n",
              "      <td>3</td>\n",
              "      <td>2</td>\n",
              "      <td>2</td>\n",
              "      <td>yes</td>\n",
              "      <td>no</td>\n",
              "      <td>yes</td>\n",
              "      <td>no</td>\n",
              "      <td>no</td>\n",
              "      <td>2</td>\n",
              "      <td>yes</td>\n",
              "      <td>semi-furnished</td>\n",
              "    </tr>\n",
              "    <tr>\n",
              "      <th>3</th>\n",
              "      <td>12215000</td>\n",
              "      <td>7500</td>\n",
              "      <td>4</td>\n",
              "      <td>2</td>\n",
              "      <td>2</td>\n",
              "      <td>yes</td>\n",
              "      <td>no</td>\n",
              "      <td>yes</td>\n",
              "      <td>no</td>\n",
              "      <td>yes</td>\n",
              "      <td>3</td>\n",
              "      <td>yes</td>\n",
              "      <td>furnished</td>\n",
              "    </tr>\n",
              "    <tr>\n",
              "      <th>4</th>\n",
              "      <td>11410000</td>\n",
              "      <td>7420</td>\n",
              "      <td>4</td>\n",
              "      <td>1</td>\n",
              "      <td>2</td>\n",
              "      <td>yes</td>\n",
              "      <td>yes</td>\n",
              "      <td>yes</td>\n",
              "      <td>no</td>\n",
              "      <td>yes</td>\n",
              "      <td>2</td>\n",
              "      <td>no</td>\n",
              "      <td>furnished</td>\n",
              "    </tr>\n",
              "  </tbody>\n",
              "</table>\n",
              "</div>"
            ],
            "text/plain": [
              "      price  area  bedrooms  ...  parking  prefarea furnishingstatus\n",
              "0  13300000  7420         4  ...        2       yes        furnished\n",
              "1  12250000  8960         4  ...        3        no        furnished\n",
              "2  12250000  9960         3  ...        2       yes   semi-furnished\n",
              "3  12215000  7500         4  ...        3       yes        furnished\n",
              "4  11410000  7420         4  ...        2        no        furnished\n",
              "\n",
              "[5 rows x 13 columns]"
            ]
          },
          "metadata": {},
          "execution_count": 8
        }
      ]
    },
    {
      "cell_type": "code",
      "metadata": {
        "id": "8IXJUhvx1Omc",
        "colab": {
          "base_uri": "https://localhost:8080/"
        },
        "outputId": "f0b96807-d2ce-4746-bea8-39a4ed7d5f11"
      },
      "source": [
        "# Get the information on DataFrame.\n",
        "df.info()"
      ],
      "execution_count": null,
      "outputs": [
        {
          "output_type": "stream",
          "name": "stdout",
          "text": [
            "<class 'pandas.core.frame.DataFrame'>\n",
            "RangeIndex: 545 entries, 0 to 544\n",
            "Data columns (total 13 columns):\n",
            " #   Column            Non-Null Count  Dtype \n",
            "---  ------            --------------  ----- \n",
            " 0   price             545 non-null    int64 \n",
            " 1   area              545 non-null    int64 \n",
            " 2   bedrooms          545 non-null    int64 \n",
            " 3   bathrooms         545 non-null    int64 \n",
            " 4   stories           545 non-null    int64 \n",
            " 5   mainroad          545 non-null    object\n",
            " 6   guestroom         545 non-null    object\n",
            " 7   basement          545 non-null    object\n",
            " 8   hotwaterheating   545 non-null    object\n",
            " 9   airconditioning   545 non-null    object\n",
            " 10  parking           545 non-null    int64 \n",
            " 11  prefarea          545 non-null    object\n",
            " 12  furnishingstatus  545 non-null    object\n",
            "dtypes: int64(6), object(7)\n",
            "memory usage: 55.5+ KB\n"
          ]
        }
      ]
    },
    {
      "cell_type": "code",
      "metadata": {
        "id": "HB5wwgC1fO7Q",
        "colab": {
          "base_uri": "https://localhost:8080/"
        },
        "outputId": "6c34f2b8-357c-47d5-8eac-8615961e42c7"
      },
      "source": [
        "# Check if there are any NULL values.\n",
        "df.isnull().sum()"
      ],
      "execution_count": null,
      "outputs": [
        {
          "output_type": "execute_result",
          "data": {
            "text/plain": [
              "price               0\n",
              "area                0\n",
              "bedrooms            0\n",
              "bathrooms           0\n",
              "stories             0\n",
              "mainroad            0\n",
              "guestroom           0\n",
              "basement            0\n",
              "hotwaterheating     0\n",
              "airconditioning     0\n",
              "parking             0\n",
              "prefarea            0\n",
              "furnishingstatus    0\n",
              "dtype: int64"
            ]
          },
          "metadata": {},
          "execution_count": 10
        }
      ]
    },
    {
      "cell_type": "markdown",
      "metadata": {
        "id": "zCfhAcHAYvS4"
      },
      "source": [
        "---"
      ]
    },
    {
      "cell_type": "markdown",
      "metadata": {
        "id": "BTMp-43z7FQY"
      },
      "source": [
        "#### 2. Exploratory Data Analysis\n",
        "\n",
        "We need to predict the value of `price` variable, using other variables. Thus, `price` is the target or dependent variable and other columns except `price` are the features or the independent variables.\n",
        "\n",
        "Perform the following tasks:\n",
        "\n",
        "- Create Box plots between each **categorical** variable and the target variable `price` to sense the distribution of values.\n",
        "\n",
        "- Create the Scatter plots between each **numerical** variable and the target variable `price`. Determine which variable(s) shows linear relationship with the target variable `price`.\n",
        "\n",
        "- Create a normal distribution curve for the `price`.\n"
      ]
    },
    {
      "cell_type": "code",
      "metadata": {
        "id": "eiF5b2D1yKDw",
        "colab": {
          "base_uri": "https://localhost:8080/",
          "height": 590
        },
        "outputId": "89c7ad28-f8b0-40f5-b53f-a2d7d2173f24"
      },
      "source": [
        "# Boxplot for 'mainroad' vs 'price'\n",
        "plt.figure(figsize=(18,6),dpi=108)\n",
        "sns.boxplot(x=\"mainroad\",y=\"price\",data=df,orient=\"v\")\n",
        "plt.show()\n"
      ],
      "execution_count": null,
      "outputs": [
        {
          "output_type": "display_data",
          "data": {
            "image/png": "[encoded data removed]",
            "text/plain": [
              "<Figure size 1944x648 with 1 Axes>"
            ]
          },
          "metadata": {
            "needs_background": "light"
          }
        }
      ]
    },
    {
      "cell_type": "code",
      "metadata": {
        "id": "weHLdEjnyaE2",
        "colab": {
          "base_uri": "https://localhost:8080/",
          "height": 590
        },
        "outputId": "6f3bf09c-987a-4972-9481-7d78e51c6b10"
      },
      "source": [
        "# Boxplot for 'guestroom' vs 'price'\n",
        "plt.figure(figsize=(18,6),dpi=108)\n",
        "sns.boxplot(x=\"guestroom\",y=\"price\",data=df,orient=\"v\")\n",
        "plt.show()\n",
        "\n"
      ],
      "execution_count": null,
      "outputs": [
        {
          "output_type": "display_data",
          "data": {
            "image/png": "[encoded data removed]",
            "text/plain": [
              "<Figure size 1944x648 with 1 Axes>"
            ]
          },
          "metadata": {
            "needs_background": "light"
          }
        }
      ]
    },
    {
      "cell_type": "code",
      "metadata": {
        "id": "p09SUbbhympd",
        "colab": {
          "base_uri": "https://localhost:8080/",
          "height": 590
        },
        "outputId": "e0cfbef4-b81c-46d6-e76a-90ade64b54c6"
      },
      "source": [
        "# Boxplot for 'basement' vs 'price'\n",
        "plt.figure(figsize=(18,6),dpi=108)\n",
        "sns.boxplot(x=\"basement\",y=\"price\",data=df,orient=\"v\")\n",
        "plt.show()\n"
      ],
      "execution_count": null,
      "outputs": [
        {
          "output_type": "display_data",
          "data": {
            "image/png": "[encoded data removed]",
            "text/plain": [
              "<Figure size 1944x648 with 1 Axes>"
            ]
          },
          "metadata": {
            "needs_background": "light"
          }
        }
      ]
    },
    {
      "cell_type": "code",
      "metadata": {
        "id": "kth0hysho8Zc",
        "colab": {
          "base_uri": "https://localhost:8080/",
          "height": 590
        },
        "outputId": "317d4a19-2e3f-4bf4-b45d-875b568434a8"
      },
      "source": [
        "# Boxplot for 'hotwaterheating' vs 'price'\n",
        "plt.figure(figsize=(18,6),dpi=108)\n",
        "sns.boxplot(x=\"hotwaterheating\",y=\"price\",data=df,orient=\"v\")\n",
        "plt.show()\n"
      ],
      "execution_count": null,
      "outputs": [
        {
          "output_type": "display_data",
          "data": {
            "image/png": "[encoded data removed]",
            "text/plain": [
              "<Figure size 1944x648 with 1 Axes>"
            ]
          },
          "metadata": {
            "needs_background": "light"
          }
        }
      ]
    },
    {
      "cell_type": "code",
      "metadata": {
        "id": "We94X-Dfo9BZ",
        "colab": {
          "base_uri": "https://localhost:8080/",
          "height": 590
        },
        "outputId": "84687b9b-66c9-48c8-b473-32c5ee4d4211"
      },
      "source": [
        "# Boxplot for 'airconditioning' vs 'price'\n",
        "\n",
        "plt.figure(figsize=(18,6),dpi=108)\n",
        "sns.boxplot(x=\"airconditioning\",y=\"price\",data=df,orient=\"v\")\n",
        "plt.show()\n"
      ],
      "execution_count": null,
      "outputs": [
        {
          "output_type": "display_data",
          "data": {
            "image/png": "[encoded data removed]",
            "text/plain": [
              "<Figure size 1944x648 with 1 Axes>"
            ]
          },
          "metadata": {
            "needs_background": "light"
          }
        }
      ]
    },
    {
      "cell_type": "code",
      "metadata": {
        "id": "nfa6bSKIo98Y",
        "colab": {
          "base_uri": "https://localhost:8080/",
          "height": 590
        },
        "outputId": "2aec25b5-21c6-4a67-d475-b829325470b3"
      },
      "source": [
        "# Boxplot for 'prefarea' vs 'price'\n",
        "plt.figure(figsize=(18,6),dpi=108)\n",
        "sns.boxplot(x=\"prefarea\",y=\"price\",data=df,orient=\"v\")\n",
        "plt.show()\n"
      ],
      "execution_count": null,
      "outputs": [
        {
          "output_type": "display_data",
          "data": {
            "image/png": "[encoded data removed]",
            "text/plain": [
              "<Figure size 1944x648 with 1 Axes>"
            ]
          },
          "metadata": {
            "needs_background": "light"
          }
        }
      ]
    },
    {
      "cell_type": "code",
      "metadata": {
        "id": "d1OlbcvXjy4s",
        "colab": {
          "base_uri": "https://localhost:8080/",
          "height": 590
        },
        "outputId": "1ea01fd2-35f2-42e5-de38-816ba2598217"
      },
      "source": [
        "# Boxplot for 'furnishingstatus' vs 'price'\n",
        "plt.figure(figsize=(18,6),dpi=108)\n",
        "sns.boxplot(x=\"furnishingstatus\",y=\"price\",data=df,orient=\"v\")\n",
        "plt.show()"
      ],
      "execution_count": null,
      "outputs": [
        {
          "output_type": "display_data",
          "data": {
            "image/png": "[encoded data removed]",
            "text/plain": [
              "<Figure size 1944x648 with 1 Axes>"
            ]
          },
          "metadata": {
            "needs_background": "light"
          }
        }
      ]
    },
    {
      "cell_type": "code",
      "metadata": {
        "id": "pnJ_Yv9MzSn8",
        "colab": {
          "base_uri": "https://localhost:8080/",
          "height": 399
        },
        "outputId": "a0518fee-fa1d-4cd3-b33b-d09f40b286f6"
      },
      "source": [
        "# Create scatter plot with 'area' on X-axis and 'price' on Y-axis\n",
        "plt.figure(figsize=(15, 6))\n",
        "plt.scatter(df['area'], df['price'], color='brown')\n",
        "plt.xlabel('area')\n",
        "plt.ylabel('price')\n",
        "plt.show()\n"
      ],
      "execution_count": null,
      "outputs": [
        {
          "output_type": "display_data",
          "data": {
            "image/png": "[encoded data removed]",
            "text/plain": [
              "<Figure size 1080x432 with 1 Axes>"
            ]
          },
          "metadata": {
            "needs_background": "light"
          }
        }
      ]
    },
    {
      "cell_type": "code",
      "metadata": {
        "id": "is7gd_Z1p4y7",
        "colab": {
          "base_uri": "https://localhost:8080/",
          "height": 399
        },
        "outputId": "2a3f61b0-ed30-467e-ceda-f0c29e073688"
      },
      "source": [
        "# Create scatter plot with 'bedrooms' on X-axis and 'price' on Y-axis\n",
        "plt.figure(figsize=(15, 6))\n",
        "plt.scatter(df['bedrooms'], df['price'], color='brown')\n",
        "plt.xlabel('bedrooms')\n",
        "plt.ylabel('price')\n",
        "plt.show()"
      ],
      "execution_count": null,
      "outputs": [
        {
          "output_type": "display_data",
          "data": {
            "image/png": "[encoded data removed]",
            "text/plain": [
              "<Figure size 1080x432 with 1 Axes>"
            ]
          },
          "metadata": {
            "needs_background": "light"
          }
        }
      ]
    },
    {
      "cell_type": "code",
      "metadata": {
        "id": "2nawvemNp5jO",
        "colab": {
          "base_uri": "https://localhost:8080/",
          "height": 399
        },
        "outputId": "21266cc0-ffb0-4468-f71b-a204a38932f0"
      },
      "source": [
        "# Create scatter plot with 'bathrooms' on X-axis and 'price' on Y-axis\n",
        "plt.figure(figsize=(15, 6))\n",
        "plt.scatter(df['bathrooms'], df['price'], color='brown')\n",
        "plt.xlabel('bathrooms')\n",
        "plt.ylabel('price')\n",
        "plt.show()"
      ],
      "execution_count": null,
      "outputs": [
        {
          "output_type": "display_data",
          "data": {
            "image/png": "[encoded data removed]",
            "text/plain": [
              "<Figure size 1080x432 with 1 Axes>"
            ]
          },
          "metadata": {
            "needs_background": "light"
          }
        }
      ]
    },
    {
      "cell_type": "code",
      "metadata": {
        "id": "PDfLIRf0p6b1",
        "colab": {
          "base_uri": "https://localhost:8080/",
          "height": 399
        },
        "outputId": "1fdaea80-200b-46e7-ac9b-6d8601a95f7f"
      },
      "source": [
        "# Create scatter plot with 'stories' on X-axis and 'price' on Y-axis\n",
        "plt.figure(figsize=(15, 6))\n",
        "plt.scatter(df['stories'], df['price'], color='brown')\n",
        "plt.xlabel('stories')\n",
        "plt.ylabel('price')\n",
        "plt.show()"
      ],
      "execution_count": null,
      "outputs": [
        {
          "output_type": "display_data",
          "data": {
            "image/png": "[encoded data removed]",
            "text/plain": [
              "<Figure size 1080x432 with 1 Axes>"
            ]
          },
          "metadata": {
            "needs_background": "light"
          }
        }
      ]
    },
    {
      "cell_type": "code",
      "metadata": {
        "id": "QIpsz4Gd5M-e",
        "colab": {
          "base_uri": "https://localhost:8080/",
          "height": 386
        },
        "outputId": "ecade732-1eed-493f-ac86-2ff26d7b9171"
      },
      "source": [
        "# Create a normal distribution curve for the 'price'.\n",
        "def prob_den_func(series):\n",
        "  cons=(1/(series.std()*np.sqrt(2*np.pi)))\n",
        "  exp=-((series-series.mean())**2)/(2*(series.var()))\n",
        "  return cons*(np.exp(exp))\n",
        "\n",
        "plt.figure(figsize = (12, 4), dpi = 96)\n",
        "plt.scatter(df[\"price\"],prob_den_func(df[\"price\"]))\n",
        "plt.axvline(x=  df[\"price\"].mean(),label=df[\"price\"].mean,color=\"Blue\")\n",
        "\n",
        "plt.title(\"Normal Distribution for price in the Prediction on Train Set\")\n",
        "\n",
        "\n",
        "plt.xlabel(\"Train Set Errors\")\n",
        "plt.legend()\n",
        "plt.show()\n",
        "# Create a probablity density function for plotting the normal distribution\n",
        "\n",
        "\n",
        "# Plot the normal distribution curve using plt.scatter()\n"
      ],
      "execution_count": null,
      "outputs": [
        {
          "output_type": "display_data",
          "data": {
            "image/png": "[encoded data removed]",
            "text/plain": [
              "<Figure size 1152x384 with 1 Axes>"
            ]
          },
          "metadata": {
            "needs_background": "light"
          }
        }
      ]
    },
    {
      "cell_type": "markdown",
      "metadata": {
        "id": "AnYUk03JZHNW"
      },
      "source": [
        "---"
      ]
    },
    {
      "cell_type": "code",
      "metadata": {
        "id": "KtUqbj3nrpsw"
      },
      "source": [
        "# Replace yes with 1 and no with 0 for all the values in features 'mainroad', 'guestroom', 'basement', 'hotwaterheating', 'airconditioning', 'prefarea' using map() function.\n",
        "list1=['mainroad', 'guestroom', 'basement', 'hotwaterheating', 'airconditioning', 'prefarea']\n",
        "def bin_map(x):\n",
        "  return x.map({\"yes\":1,\"no\":0})\n",
        "df[list1]=df[list1].apply(bin_map)"
      ],
      "execution_count": null,
      "outputs": []
    },
    {
      "cell_type": "code",
      "metadata": {
        "id": "NyBVyE1mrwg1",
        "colab": {
          "base_uri": "https://localhost:8080/",
          "height": 206
        },
        "outputId": "eb6ca7cd-354f-40bb-bc38-452b41f7a15a"
      },
      "source": [
        "# Print dataframe\n",
        "df.head()"
      ],
      "execution_count": null,
      "outputs": [
        {
          "output_type": "execute_result",
          "data": {
            "text/html": [
              "<div>\n",
              "<style scoped>\n",
              "    .dataframe tbody tr th:only-of-type {\n",
              "        vertical-align: middle;\n",
              "    }\n",
              "\n",
              "    .dataframe tbody tr th {\n",
              "        vertical-align: top;\n",
              "    }\n",
              "\n",
              "    .dataframe thead th {\n",
              "        text-align: right;\n",
              "    }\n",
              "</style>\n",
              "<table border=\"1\" class=\"dataframe\">\n",
              "  <thead>\n",
              "    <tr style=\"text-align: right;\">\n",
              "      <th></th>\n",
              "      <th>price</th>\n",
              "      <th>area</th>\n",
              "      <th>bedrooms</th>\n",
              "      <th>bathrooms</th>\n",
              "      <th>stories</th>\n",
              "      <th>mainroad</th>\n",
              "      <th>guestroom</th>\n",
              "      <th>basement</th>\n",
              "      <th>hotwaterheating</th>\n",
              "      <th>airconditioning</th>\n",
              "      <th>parking</th>\n",
              "      <th>prefarea</th>\n",
              "      <th>furnishingstatus</th>\n",
              "    </tr>\n",
              "  </thead>\n",
              "  <tbody>\n",
              "    <tr>\n",
              "      <th>0</th>\n",
              "      <td>13300000</td>\n",
              "      <td>7420</td>\n",
              "      <td>4</td>\n",
              "      <td>2</td>\n",
              "      <td>3</td>\n",
              "      <td>1</td>\n",
              "      <td>0</td>\n",
              "      <td>0</td>\n",
              "      <td>0</td>\n",
              "      <td>1</td>\n",
              "      <td>2</td>\n",
              "      <td>1</td>\n",
              "      <td>furnished</td>\n",
              "    </tr>\n",
              "    <tr>\n",
              "      <th>1</th>\n",
              "      <td>12250000</td>\n",
              "      <td>8960</td>\n",
              "      <td>4</td>\n",
              "      <td>4</td>\n",
              "      <td>4</td>\n",
              "      <td>1</td>\n",
              "      <td>0</td>\n",
              "      <td>0</td>\n",
              "      <td>0</td>\n",
              "      <td>1</td>\n",
              "      <td>3</td>\n",
              "      <td>0</td>\n",
              "      <td>furnished</td>\n",
              "    </tr>\n",
              "    <tr>\n",
              "      <th>2</th>\n",
              "      <td>12250000</td>\n",
              "      <td>9960</td>\n",
              "      <td>3</td>\n",
              "      <td>2</td>\n",
              "      <td>2</td>\n",
              "      <td>1</td>\n",
              "      <td>0</td>\n",
              "      <td>1</td>\n",
              "      <td>0</td>\n",
              "      <td>0</td>\n",
              "      <td>2</td>\n",
              "      <td>1</td>\n",
              "      <td>semi-furnished</td>\n",
              "    </tr>\n",
              "    <tr>\n",
              "      <th>3</th>\n",
              "      <td>12215000</td>\n",
              "      <td>7500</td>\n",
              "      <td>4</td>\n",
              "      <td>2</td>\n",
              "      <td>2</td>\n",
              "      <td>1</td>\n",
              "      <td>0</td>\n",
              "      <td>1</td>\n",
              "      <td>0</td>\n",
              "      <td>1</td>\n",
              "      <td>3</td>\n",
              "      <td>1</td>\n",
              "      <td>furnished</td>\n",
              "    </tr>\n",
              "    <tr>\n",
              "      <th>4</th>\n",
              "      <td>11410000</td>\n",
              "      <td>7420</td>\n",
              "      <td>4</td>\n",
              "      <td>1</td>\n",
              "      <td>2</td>\n",
              "      <td>1</td>\n",
              "      <td>1</td>\n",
              "      <td>1</td>\n",
              "      <td>0</td>\n",
              "      <td>1</td>\n",
              "      <td>2</td>\n",
              "      <td>0</td>\n",
              "      <td>furnished</td>\n",
              "    </tr>\n",
              "  </tbody>\n",
              "</table>\n",
              "</div>"
            ],
            "text/plain": [
              "      price  area  bedrooms  ...  parking  prefarea  furnishingstatus\n",
              "0  13300000  7420         4  ...        2         1         furnished\n",
              "1  12250000  8960         4  ...        3         0         furnished\n",
              "2  12250000  9960         3  ...        2         1    semi-furnished\n",
              "3  12215000  7500         4  ...        3         1         furnished\n",
              "4  11410000  7420         4  ...        2         0         furnished\n",
              "\n",
              "[5 rows x 13 columns]"
            ]
          },
          "metadata": {},
          "execution_count": 13
        }
      ]
    },
    {
      "cell_type": "code",
      "metadata": {
        "id": "uZQ5753MkgUn",
        "colab": {
          "base_uri": "https://localhost:8080/",
          "height": 424
        },
        "outputId": "b426e4db-4b92-4dc1-ac8f-48beac011f93"
      },
      "source": [
        "# Perform one hot encoding for furnishingstatus feature.\n",
        "df_body_dummies = pd.get_dummies(df[\"furnishingstatus\"],dtype=int)\n",
        "df=pd.concat([df,df_body_dummies],axis=1)\n",
        "df"
      ],
      "execution_count": null,
      "outputs": [
        {
          "output_type": "execute_result",
          "data": {
            "text/html": [
              "<div>\n",
              "<style scoped>\n",
              "    .dataframe tbody tr th:only-of-type {\n",
              "        vertical-align: middle;\n",
              "    }\n",
              "\n",
              "    .dataframe tbody tr th {\n",
              "        vertical-align: top;\n",
              "    }\n",
              "\n",
              "    .dataframe thead th {\n",
              "        text-align: right;\n",
              "    }\n",
              "</style>\n",
              "<table border=\"1\" class=\"dataframe\">\n",
              "  <thead>\n",
              "    <tr style=\"text-align: right;\">\n",
              "      <th></th>\n",
              "      <th>price</th>\n",
              "      <th>area</th>\n",
              "      <th>bedrooms</th>\n",
              "      <th>bathrooms</th>\n",
              "      <th>stories</th>\n",
              "      <th>mainroad</th>\n",
              "      <th>guestroom</th>\n",
              "      <th>basement</th>\n",
              "      <th>hotwaterheating</th>\n",
              "      <th>airconditioning</th>\n",
              "      <th>parking</th>\n",
              "      <th>prefarea</th>\n",
              "      <th>furnishingstatus</th>\n",
              "      <th>furnished</th>\n",
              "      <th>semi-furnished</th>\n",
              "      <th>unfurnished</th>\n",
              "    </tr>\n",
              "  </thead>\n",
              "  <tbody>\n",
              "    <tr>\n",
              "      <th>0</th>\n",
              "      <td>13300000</td>\n",
              "      <td>7420</td>\n",
              "      <td>4</td>\n",
              "      <td>2</td>\n",
              "      <td>3</td>\n",
              "      <td>1</td>\n",
              "      <td>0</td>\n",
              "      <td>0</td>\n",
              "      <td>0</td>\n",
              "      <td>1</td>\n",
              "      <td>2</td>\n",
              "      <td>1</td>\n",
              "      <td>furnished</td>\n",
              "      <td>1</td>\n",
              "      <td>0</td>\n",
              "      <td>0</td>\n",
              "    </tr>\n",
              "    <tr>\n",
              "      <th>1</th>\n",
              "      <td>12250000</td>\n",
              "      <td>8960</td>\n",
              "      <td>4</td>\n",
              "      <td>4</td>\n",
              "      <td>4</td>\n",
              "      <td>1</td>\n",
              "      <td>0</td>\n",
              "      <td>0</td>\n",
              "      <td>0</td>\n",
              "      <td>1</td>\n",
              "      <td>3</td>\n",
              "      <td>0</td>\n",
              "      <td>furnished</td>\n",
              "      <td>1</td>\n",
              "      <td>0</td>\n",
              "      <td>0</td>\n",
              "    </tr>\n",
              "    <tr>\n",
              "      <th>2</th>\n",
              "      <td>12250000</td>\n",
              "      <td>9960</td>\n",
              "      <td>3</td>\n",
              "      <td>2</td>\n",
              "      <td>2</td>\n",
              "      <td>1</td>\n",
              "      <td>0</td>\n",
              "      <td>1</td>\n",
              "      <td>0</td>\n",
              "      <td>0</td>\n",
              "      <td>2</td>\n",
              "      <td>1</td>\n",
              "      <td>semi-furnished</td>\n",
              "      <td>0</td>\n",
              "      <td>1</td>\n",
              "      <td>0</td>\n",
              "    </tr>\n",
              "    <tr>\n",
              "      <th>3</th>\n",
              "      <td>12215000</td>\n",
              "      <td>7500</td>\n",
              "      <td>4</td>\n",
              "      <td>2</td>\n",
              "      <td>2</td>\n",
              "      <td>1</td>\n",
              "      <td>0</td>\n",
              "      <td>1</td>\n",
              "      <td>0</td>\n",
              "      <td>1</td>\n",
              "      <td>3</td>\n",
              "      <td>1</td>\n",
              "      <td>furnished</td>\n",
              "      <td>1</td>\n",
              "      <td>0</td>\n",
              "      <td>0</td>\n",
              "    </tr>\n",
              "    <tr>\n",
              "      <th>4</th>\n",
              "      <td>11410000</td>\n",
              "      <td>7420</td>\n",
              "      <td>4</td>\n",
              "      <td>1</td>\n",
              "      <td>2</td>\n",
              "      <td>1</td>\n",
              "      <td>1</td>\n",
              "      <td>1</td>\n",
              "      <td>0</td>\n",
              "      <td>1</td>\n",
              "      <td>2</td>\n",
              "      <td>0</td>\n",
              "      <td>furnished</td>\n",
              "      <td>1</td>\n",
              "      <td>0</td>\n",
              "      <td>0</td>\n",
              "    </tr>\n",
              "    <tr>\n",
              "      <th>...</th>\n",
              "      <td>...</td>\n",
              "      <td>...</td>\n",
              "      <td>...</td>\n",
              "      <td>...</td>\n",
              "      <td>...</td>\n",
              "      <td>...</td>\n",
              "      <td>...</td>\n",
              "      <td>...</td>\n",
              "      <td>...</td>\n",
              "      <td>...</td>\n",
              "      <td>...</td>\n",
              "      <td>...</td>\n",
              "      <td>...</td>\n",
              "      <td>...</td>\n",
              "      <td>...</td>\n",
              "      <td>...</td>\n",
              "    </tr>\n",
              "    <tr>\n",
              "      <th>540</th>\n",
              "      <td>1820000</td>\n",
              "      <td>3000</td>\n",
              "      <td>2</td>\n",
              "      <td>1</td>\n",
              "      <td>1</td>\n",
              "      <td>1</td>\n",
              "      <td>0</td>\n",
              "      <td>1</td>\n",
              "      <td>0</td>\n",
              "      <td>0</td>\n",
              "      <td>2</td>\n",
              "      <td>0</td>\n",
              "      <td>unfurnished</td>\n",
              "      <td>0</td>\n",
              "      <td>0</td>\n",
              "      <td>1</td>\n",
              "    </tr>\n",
              "    <tr>\n",
              "      <th>541</th>\n",
              "      <td>1767150</td>\n",
              "      <td>2400</td>\n",
              "      <td>3</td>\n",
              "      <td>1</td>\n",
              "      <td>1</td>\n",
              "      <td>0</td>\n",
              "      <td>0</td>\n",
              "      <td>0</td>\n",
              "      <td>0</td>\n",
              "      <td>0</td>\n",
              "      <td>0</td>\n",
              "      <td>0</td>\n",
              "      <td>semi-furnished</td>\n",
              "      <td>0</td>\n",
              "      <td>1</td>\n",
              "      <td>0</td>\n",
              "    </tr>\n",
              "    <tr>\n",
              "      <th>542</th>\n",
              "      <td>1750000</td>\n",
              "      <td>3620</td>\n",
              "      <td>2</td>\n",
              "      <td>1</td>\n",
              "      <td>1</td>\n",
              "      <td>1</td>\n",
              "      <td>0</td>\n",
              "      <td>0</td>\n",
              "      <td>0</td>\n",
              "      <td>0</td>\n",
              "      <td>0</td>\n",
              "      <td>0</td>\n",
              "      <td>unfurnished</td>\n",
              "      <td>0</td>\n",
              "      <td>0</td>\n",
              "      <td>1</td>\n",
              "    </tr>\n",
              "    <tr>\n",
              "      <th>543</th>\n",
              "      <td>1750000</td>\n",
              "      <td>2910</td>\n",
              "      <td>3</td>\n",
              "      <td>1</td>\n",
              "      <td>1</td>\n",
              "      <td>0</td>\n",
              "      <td>0</td>\n",
              "      <td>0</td>\n",
              "      <td>0</td>\n",
              "      <td>0</td>\n",
              "      <td>0</td>\n",
              "      <td>0</td>\n",
              "      <td>furnished</td>\n",
              "      <td>1</td>\n",
              "      <td>0</td>\n",
              "      <td>0</td>\n",
              "    </tr>\n",
              "    <tr>\n",
              "      <th>544</th>\n",
              "      <td>1750000</td>\n",
              "      <td>3850</td>\n",
              "      <td>3</td>\n",
              "      <td>1</td>\n",
              "      <td>2</td>\n",
              "      <td>1</td>\n",
              "      <td>0</td>\n",
              "      <td>0</td>\n",
              "      <td>0</td>\n",
              "      <td>0</td>\n",
              "      <td>0</td>\n",
              "      <td>0</td>\n",
              "      <td>unfurnished</td>\n",
              "      <td>0</td>\n",
              "      <td>0</td>\n",
              "      <td>1</td>\n",
              "    </tr>\n",
              "  </tbody>\n",
              "</table>\n",
              "<p>545 rows × 16 columns</p>\n",
              "</div>"
            ],
            "text/plain": [
              "        price  area  bedrooms  ...  furnished  semi-furnished  unfurnished\n",
              "0    13300000  7420         4  ...          1               0            0\n",
              "1    12250000  8960         4  ...          1               0            0\n",
              "2    12250000  9960         3  ...          0               1            0\n",
              "3    12215000  7500         4  ...          1               0            0\n",
              "4    11410000  7420         4  ...          1               0            0\n",
              "..        ...   ...       ...  ...        ...             ...          ...\n",
              "540   1820000  3000         2  ...          0               0            1\n",
              "541   1767150  2400         3  ...          0               1            0\n",
              "542   1750000  3620         2  ...          0               0            1\n",
              "543   1750000  2910         3  ...          1               0            0\n",
              "544   1750000  3850         3  ...          0               0            1\n",
              "\n",
              "[545 rows x 16 columns]"
            ]
          },
          "metadata": {},
          "execution_count": 14
        }
      ]
    },
    {
      "cell_type": "code",
      "metadata": {
        "id": "v7j60gXuxkSo"
      },
      "source": [
        "# Drop 'furnishingstatus' feature\n",
        "df.drop(\"furnishingstatus\",axis=1,inplace=True)"
      ],
      "execution_count": null,
      "outputs": []
    },
    {
      "cell_type": "code",
      "metadata": {
        "id": "98TkE-Uvxu1W",
        "colab": {
          "base_uri": "https://localhost:8080/",
          "height": 206
        },
        "outputId": "8b0fbaf3-3695-40d0-a0bd-ba72799348d4"
      },
      "source": [
        "# Print dataframe\n",
        "df.head()"
      ],
      "execution_count": null,
      "outputs": [
        {
          "output_type": "execute_result",
          "data": {
            "text/html": [
              "<div>\n",
              "<style scoped>\n",
              "    .dataframe tbody tr th:only-of-type {\n",
              "        vertical-align: middle;\n",
              "    }\n",
              "\n",
              "    .dataframe tbody tr th {\n",
              "        vertical-align: top;\n",
              "    }\n",
              "\n",
              "    .dataframe thead th {\n",
              "        text-align: right;\n",
              "    }\n",
              "</style>\n",
              "<table border=\"1\" class=\"dataframe\">\n",
              "  <thead>\n",
              "    <tr style=\"text-align: right;\">\n",
              "      <th></th>\n",
              "      <th>price</th>\n",
              "      <th>area</th>\n",
              "      <th>bedrooms</th>\n",
              "      <th>bathrooms</th>\n",
              "      <th>stories</th>\n",
              "      <th>mainroad</th>\n",
              "      <th>guestroom</th>\n",
              "      <th>basement</th>\n",
              "      <th>hotwaterheating</th>\n",
              "      <th>airconditioning</th>\n",
              "      <th>parking</th>\n",
              "      <th>prefarea</th>\n",
              "      <th>furnished</th>\n",
              "      <th>semi-furnished</th>\n",
              "      <th>unfurnished</th>\n",
              "    </tr>\n",
              "  </thead>\n",
              "  <tbody>\n",
              "    <tr>\n",
              "      <th>0</th>\n",
              "      <td>13300000</td>\n",
              "      <td>7420</td>\n",
              "      <td>4</td>\n",
              "      <td>2</td>\n",
              "      <td>3</td>\n",
              "      <td>1</td>\n",
              "      <td>0</td>\n",
              "      <td>0</td>\n",
              "      <td>0</td>\n",
              "      <td>1</td>\n",
              "      <td>2</td>\n",
              "      <td>1</td>\n",
              "      <td>1</td>\n",
              "      <td>0</td>\n",
              "      <td>0</td>\n",
              "    </tr>\n",
              "    <tr>\n",
              "      <th>1</th>\n",
              "      <td>12250000</td>\n",
              "      <td>8960</td>\n",
              "      <td>4</td>\n",
              "      <td>4</td>\n",
              "      <td>4</td>\n",
              "      <td>1</td>\n",
              "      <td>0</td>\n",
              "      <td>0</td>\n",
              "      <td>0</td>\n",
              "      <td>1</td>\n",
              "      <td>3</td>\n",
              "      <td>0</td>\n",
              "      <td>1</td>\n",
              "      <td>0</td>\n",
              "      <td>0</td>\n",
              "    </tr>\n",
              "    <tr>\n",
              "      <th>2</th>\n",
              "      <td>12250000</td>\n",
              "      <td>9960</td>\n",
              "      <td>3</td>\n",
              "      <td>2</td>\n",
              "      <td>2</td>\n",
              "      <td>1</td>\n",
              "      <td>0</td>\n",
              "      <td>1</td>\n",
              "      <td>0</td>\n",
              "      <td>0</td>\n",
              "      <td>2</td>\n",
              "      <td>1</td>\n",
              "      <td>0</td>\n",
              "      <td>1</td>\n",
              "      <td>0</td>\n",
              "    </tr>\n",
              "    <tr>\n",
              "      <th>3</th>\n",
              "      <td>12215000</td>\n",
              "      <td>7500</td>\n",
              "      <td>4</td>\n",
              "      <td>2</td>\n",
              "      <td>2</td>\n",
              "      <td>1</td>\n",
              "      <td>0</td>\n",
              "      <td>1</td>\n",
              "      <td>0</td>\n",
              "      <td>1</td>\n",
              "      <td>3</td>\n",
              "      <td>1</td>\n",
              "      <td>1</td>\n",
              "      <td>0</td>\n",
              "      <td>0</td>\n",
              "    </tr>\n",
              "    <tr>\n",
              "      <th>4</th>\n",
              "      <td>11410000</td>\n",
              "      <td>7420</td>\n",
              "      <td>4</td>\n",
              "      <td>1</td>\n",
              "      <td>2</td>\n",
              "      <td>1</td>\n",
              "      <td>1</td>\n",
              "      <td>1</td>\n",
              "      <td>0</td>\n",
              "      <td>1</td>\n",
              "      <td>2</td>\n",
              "      <td>0</td>\n",
              "      <td>1</td>\n",
              "      <td>0</td>\n",
              "      <td>0</td>\n",
              "    </tr>\n",
              "  </tbody>\n",
              "</table>\n",
              "</div>"
            ],
            "text/plain": [
              "      price  area  bedrooms  ...  furnished  semi-furnished  unfurnished\n",
              "0  13300000  7420         4  ...          1               0            0\n",
              "1  12250000  8960         4  ...          1               0            0\n",
              "2  12250000  9960         3  ...          0               1            0\n",
              "3  12215000  7500         4  ...          1               0            0\n",
              "4  11410000  7420         4  ...          1               0            0\n",
              "\n",
              "[5 rows x 15 columns]"
            ]
          },
          "metadata": {},
          "execution_count": 16
        }
      ]
    },
    {
      "cell_type": "markdown",
      "metadata": {
        "id": "zOCUEcX8uRqy"
      },
      "source": [
        "---"
      ]
    },
    {
      "cell_type": "code",
      "metadata": {
        "id": "wQzZoKiQMsLe"
      },
      "source": [
        "# Split the 'df' Dataframe into the train and test sets.\n",
        "from sklearn.model_selection import train_test_split\n",
        "train_df, test_df = train_test_split(df, test_size = 0.3, random_state = 42)\n"
      ],
      "execution_count": null,
      "outputs": []
    },
    {
      "cell_type": "code",
      "metadata": {
        "id": "QaMtadzBMx1b",
        "colab": {
          "base_uri": "https://localhost:8080/"
        },
        "outputId": "bdb3ca93-2c24-46c7-83ab-1395545de1a4"
      },
      "source": [
        "# Create separate data-frames for the feature and target variables for both the train and test sets.\n",
        "features = list(df.columns)\n",
        "features.remove('price')\n",
        "\n",
        "X_train = train_df[features]\n",
        "y_train = train_df['price']\n",
        "X_test = test_df[features]\n",
        "y_test = test_df['price']\n",
        "\n",
        "X_train.shape"
      ],
      "execution_count": null,
      "outputs": [
        {
          "output_type": "execute_result",
          "data": {
            "text/plain": [
              "(381, 14)"
            ]
          },
          "metadata": {},
          "execution_count": 18
        }
      ]
    },
    {
      "cell_type": "code",
      "metadata": {
        "id": "NmVNQIXoM_e7",
        "colab": {
          "base_uri": "https://localhost:8080/"
        },
        "outputId": "b86335c1-0dc2-44ec-df38-1526aada5d6e"
      },
      "source": [
        "# Build a linear regression model using all the features to predict prices.\n",
        "\n",
        "import statsmodels.api as sm\n",
        "\n",
        "X_train_sm = sm.add_constant(X_train)\n",
        "lin_reg = sm.OLS(y_train, X_train_sm).fit()\n",
        "lin_reg.params\n"
      ],
      "execution_count": null,
      "outputs": [
        {
          "output_type": "execute_result",
          "data": {
            "text/plain": [
              "const             -5.637280e+04\n",
              "area               2.532873e+02\n",
              "bedrooms           8.089314e+04\n",
              "bathrooms          1.114751e+06\n",
              "stories            4.172676e+05\n",
              "mainroad           4.080737e+05\n",
              "guestroom          2.757105e+05\n",
              "basement           4.826035e+05\n",
              "hotwaterheating    6.163754e+05\n",
              "airconditioning    6.858393e+05\n",
              "parking            3.031112e+05\n",
              "prefarea           5.091921e+05\n",
              "furnished          1.521570e+05\n",
              "semi-furnished     3.050437e+04\n",
              "unfurnished       -2.390342e+05\n",
              "dtype: float64"
            ]
          },
          "metadata": {},
          "execution_count": 19
        }
      ]
    },
    {
      "cell_type": "code",
      "metadata": {
        "id": "bTRC2EzPNES8",
        "colab": {
          "base_uri": "https://localhost:8080/"
        },
        "outputId": "b346acfd-62e8-4f20-e866-9cc82132a87a"
      },
      "source": [
        "# Print the summary of the linear regression report.\n",
        "print(lin_reg.summary())"
      ],
      "execution_count": null,
      "outputs": [
        {
          "output_type": "stream",
          "name": "stdout",
          "text": [
            "                            OLS Regression Results                            \n",
            "==============================================================================\n",
            "Dep. Variable:                  price   R-squared:                       0.693\n",
            "Model:                            OLS   Adj. R-squared:                  0.682\n",
            "Method:                 Least Squares   F-statistic:                     63.79\n",
            "Date:                Mon, 13 Dec 2021   Prob (F-statistic):           1.00e-85\n",
            "Time:                        08:24:48   Log-Likelihood:                -5797.3\n",
            "No. Observations:                 381   AIC:                         1.162e+04\n",
            "Df Residuals:                     367   BIC:                         1.168e+04\n",
            "Df Model:                          13                                         \n",
            "Covariance Type:            nonrobust                                         \n",
            "===================================================================================\n",
            "                      coef    std err          t      P>|t|      [0.025      0.975]\n",
            "-----------------------------------------------------------------------------------\n",
            "const           -5.637e+04   2.04e+05     -0.277      0.782   -4.57e+05    3.44e+05\n",
            "area              253.2873     27.086      9.351      0.000     200.024     306.551\n",
            "bedrooms         8.089e+04   8.11e+04      0.998      0.319   -7.85e+04     2.4e+05\n",
            "bathrooms        1.115e+06   1.23e+05      9.031      0.000    8.72e+05    1.36e+06\n",
            "stories          4.173e+05   7.45e+04      5.599      0.000    2.71e+05    5.64e+05\n",
            "mainroad         4.081e+05   1.62e+05      2.517      0.012    8.93e+04    7.27e+05\n",
            "guestroom        2.757e+05   1.48e+05      1.858      0.064   -1.61e+04    5.68e+05\n",
            "basement         4.826e+05   1.27e+05      3.794      0.000    2.32e+05    7.33e+05\n",
            "hotwaterheating  6.164e+05   2.35e+05      2.619      0.009    1.54e+05    1.08e+06\n",
            "airconditioning  6.858e+05   1.25e+05      5.502      0.000    4.41e+05    9.31e+05\n",
            "parking          3.031e+05   6.67e+04      4.547      0.000    1.72e+05    4.34e+05\n",
            "prefarea         5.092e+05    1.3e+05      3.925      0.000    2.54e+05    7.64e+05\n",
            "furnished        1.522e+05   1.15e+05      1.324      0.186   -7.38e+04    3.78e+05\n",
            "semi-furnished    3.05e+04   9.69e+04      0.315      0.753    -1.6e+05    2.21e+05\n",
            "unfurnished      -2.39e+05   9.31e+04     -2.567      0.011   -4.22e+05   -5.59e+04\n",
            "==============================================================================\n",
            "Omnibus:                       61.032   Durbin-Watson:                   1.895\n",
            "Prob(Omnibus):                  0.000   Jarque-Bera (JB):              144.413\n",
            "Skew:                           0.805   Prob(JB):                     4.38e-32\n",
            "Kurtosis:                       5.550   Cond. No.                     1.17e+19\n",
            "==============================================================================\n",
            "\n",
            "Warnings:\n",
            "[1] Standard Errors assume that the covariance matrix of the errors is correctly specified.\n",
            "[2] The smallest eigenvalue is 8.65e-29. This might indicate that there are\n",
            "strong multicollinearity problems or that the design matrix is singular.\n"
          ]
        }
      ]
    },
    {
      "cell_type": "code",
      "metadata": {
        "id": "J7Yt4qRL1nEE",
        "colab": {
          "base_uri": "https://localhost:8080/"
        },
        "outputId": "703f410f-d3cb-4f49-cc1e-b1fbf1ba7a48"
      },
      "source": [
        "# Calculate N and p values\n",
        "num_rows = X_train.shape[0]\n",
        "num_predictors = X_train.shape[1]\n",
        "print(\"Number of rows (N):\", num_rows)\n",
        "print(\"Number of predictors (p):\", num_predictors)"
      ],
      "execution_count": null,
      "outputs": [
        {
          "output_type": "stream",
          "name": "stdout",
          "text": [
            "Number of rows (N): 381\n",
            "Number of predictors (p): 14\n"
          ]
        }
      ]
    },
    {
      "cell_type": "code",
      "metadata": {
        "id": "Y5oVTSm2NI0N",
        "colab": {
          "base_uri": "https://localhost:8080/"
        },
        "outputId": "6c35c898-5e85-4843-ad9c-b9cbf6e8545d"
      },
      "source": [
        "# Calculate the adjusted R-square value.\n",
        "num_rows =X_train.shape[0]     # Number of rows or instances\n",
        "num_predictors = X_train.shape[1] # Number of columns or feature (or independent) variables\n",
        "r2_score =lin_reg.rsquared  # R-squared (or coefficient of determination) value\n",
        "adj_r2_score =1-((1-r2_score)*(num_rows-1))/(num_rows-num_predictors-1) # Adjusted R-squared calculation\n",
        "adj_r2_score"
      ],
      "execution_count": null,
      "outputs": [
        {
          "output_type": "execute_result",
          "data": {
            "text/plain": [
              "0.6814634225875351"
            ]
          },
          "metadata": {},
          "execution_count": 22
        }
      ]
    },
    {
      "cell_type": "markdown",
      "metadata": {
        "id": "0g5bWR7KevKp"
      },
      "source": [
        "**Q:** What is the Adjusted $R^2$ value?\n",
        "\n",
        "**A:** 0.681\n"
      ]
    },
    {
      "cell_type": "markdown",
      "metadata": {
        "id": "MGiJbicSY0cB"
      },
      "source": [
        "---"
      ]
    },
    {
      "cell_type": "code",
      "metadata": {
        "id": "UasyrqoReltr",
        "colab": {
          "base_uri": "https://localhost:8080/"
        },
        "outputId": "023b5513-f861-4151-f08c-a71e7debec0d"
      },
      "source": [
        "# Build multiple linear regression model using all the features\n",
        "from sklearn.linear_model import LinearRegression\n",
        "sklearn_lin_reg=LinearRegression()\n",
        "sklearn_lin_reg.fit(X_train,y_train)\n",
        "print(sklearn_lin_reg.intercept_)\n",
        "print(sklearn_lin_reg.coef_)\n"
      ],
      "execution_count": null,
      "outputs": [
        {
          "output_type": "stream",
          "name": "stdout",
          "text": [
            "-75163.73881652113\n",
            "[ 2.53287252e+02  8.08931413e+04  1.11475118e+06  4.17267580e+05\n",
            "  4.08073682e+05  2.75710533e+05  4.82603522e+05  6.16375423e+05\n",
            "  6.85839346e+05  3.03111236e+05  5.09192089e+05  1.70947968e+05\n",
            "  4.92953049e+04 -2.20243273e+05]\n"
          ]
        }
      ]
    },
    {
      "cell_type": "code",
      "metadata": {
        "id": "O_Jn8jYZe0AJ",
        "colab": {
          "base_uri": "https://localhost:8080/"
        },
        "outputId": "3ac356fc-bfcd-4f83-a610-161b90f31215"
      },
      "source": [
        "# Evaluate the linear regression model using the 'r2_score', 'mean_squared_error' & 'mean_absolute_error' functions of the 'sklearn' module.\n",
        "from sklearn.metrics import r2_score, mean_squared_error, mean_absolute_error\n",
        "\n",
        "y_train_pred = sklearn_lin_reg.predict(X_train)\n",
        "y_test_pred = sklearn_lin_reg.predict(X_test)\n",
        "\n",
        "print(f\"Train Set\\n{'-' * 50}\")\n",
        "print(f\"R-squared: {r2_score(y_train, y_train_pred):.3f}\")\n",
        "print(f\"Mean Squared Error: {mean_squared_error(y_train, y_train_pred):.3f}\")\n",
        "print(f\"Root Mean Squared Error: {np.sqrt(mean_squared_error(y_train, y_train_pred)):.3f}\")\n",
        "print(f\"Mean Absolute Error: {mean_absolute_error(y_train, y_train_pred):.3f}\")\n",
        "\n",
        "print(f\"\\n\\nTest Set\\n{'-' * 50}\")\n",
        "print(f\"R-squared: {r2_score(y_test, y_test_pred):.3f}\")\n",
        "print(f\"Mean Squared Error: {mean_squared_error(y_test, y_test_pred):.3f}\")\n",
        "print(f\"Root Mean Squared Error: {np.sqrt(mean_squared_error(y_test, y_test_pred)):.3f}\")\n",
        "print(f\"Mean Absolute Error: {mean_absolute_error(y_test, y_test_pred):.3f}\")"
      ],
      "execution_count": null,
      "outputs": [
        {
          "output_type": "stream",
          "name": "stdout",
          "text": [
            "Train Set\n",
            "--------------------------------------------------\n",
            "R-squared: 0.693\n",
            "Mean Squared Error: 963835379828.360\n",
            "Root Mean Squared Error: 981751.180\n",
            "Mean Absolute Error: 720245.199\n",
            "\n",
            "\n",
            "Test Set\n",
            "--------------------------------------------------\n",
            "R-squared: 0.646\n",
            "Mean Squared Error: 1523019469501.291\n",
            "Root Mean Squared Error: 1234106.750\n",
            "Mean Absolute Error: 920392.940\n"
          ]
        }
      ]
    },
    {
      "cell_type": "markdown",
      "metadata": {
        "id": "nzGwobReGzyj"
      },
      "source": [
        "**Q:** What is the $R^2$ value for train set and test set?\n",
        "\n",
        "**A:** 0.693,0.646"
      ]
    },
    {
      "cell_type": "markdown",
      "metadata": {
        "id": "JQjDiF7TY3NN"
      },
      "source": [
        "---"
      ]
    },
    {
      "cell_type": "markdown",
      "metadata": {
        "id": "LYr8UQBp6AlS"
      },
      "source": [
        "#### 6. Recursive Feature Elimination\n",
        "\n",
        "Find out the best features out of all features using RFE and evaluate the model again."
      ]
    },
    {
      "cell_type": "code",
      "metadata": {
        "id": "7I4LSmb0oew9",
        "colab": {
          "base_uri": "https://localhost:8080/"
        },
        "outputId": "bc7d51e8-9d3e-4c31-9275-bb3a04b2060d"
      },
      "source": [
        "# Create a Python dictionary storing the moderately to highly correlated features with price and the corresponding correlation values.\n",
        "# Keep correlation threshold to be 0.2\n",
        "major_features = {}\n",
        "for f in features:\n",
        "  corr_coef = np.corrcoef(df['price'], df[f])[0, 1]\n",
        "  if (corr_coef >= 0.2) or (corr_coef <= -0.2):\n",
        "    major_features[f] = corr_coef\n",
        "\n",
        "print(\"Number of features moderately to highly correlated with price =\", len(major_features), \"\\n\")\n",
        "major_features"
      ],
      "execution_count": null,
      "outputs": [
        {
          "output_type": "stream",
          "name": "stdout",
          "text": [
            "Number of features moderately to highly correlated with price = 11 \n",
            "\n"
          ]
        },
        {
          "output_type": "execute_result",
          "data": {
            "text/plain": [
              "{'airconditioning': 0.4529540842560478,\n",
              " 'area': 0.5359973457780796,\n",
              " 'bathrooms': 0.517545339455011,\n",
              " 'bedrooms': 0.3664940257738689,\n",
              " 'furnished': 0.22935031248433113,\n",
              " 'guestroom': 0.2555172899349996,\n",
              " 'mainroad': 0.2968984892639764,\n",
              " 'parking': 0.3843936486357259,\n",
              " 'prefarea': 0.32977704986810735,\n",
              " 'stories': 0.4207123661886163,\n",
              " 'unfurnished': -0.2805873573251204}"
            ]
          },
          "metadata": {},
          "execution_count": 34
        }
      ]
    },
    {
      "cell_type": "code",
      "metadata": {
        "id": "VdSD1Jca7OuN",
        "colab": {
          "base_uri": "https://localhost:8080/"
        },
        "outputId": "3beb8962-e34c-486c-fbc7-35c11e6c2978"
      },
      "source": [
        "# Perform RFE and select best 7 features\n",
        "\n",
        "from sklearn.feature_selection import RFE\n",
        "from sklearn.linear_model import LinearRegression\n",
        "\n",
        "\n",
        "skl_lin_reg = LinearRegression()\n",
        "rfe1 = RFE(skl_lin_reg, n_features_to_select= 7,step=1)\n",
        "\n",
        "\n",
        "rfe1.fit(X_train[major_features.keys()], y_train)\n",
        "\n",
        "# Print the attributes.\n",
        "print(major_features.keys(), \"\\n\")\n",
        "print(rfe1.support_, \"\\n\")\n",
        "print(rfe1.ranking_)"
      ],
      "execution_count": null,
      "outputs": [
        {
          "output_type": "stream",
          "name": "stdout",
          "text": [
            "dict_keys(['area', 'bedrooms', 'bathrooms', 'stories', 'mainroad', 'guestroom', 'airconditioning', 'parking', 'prefarea', 'furnished', 'unfurnished']) \n",
            "\n",
            "[False False  True False  True  True  True  True  True False  True] \n",
            "\n",
            "[5 4 1 2 1 1 1 1 1 3 1]\n"
          ]
        }
      ]
    },
    {
      "cell_type": "code",
      "metadata": {
        "id": "vJLkGtFjxREU",
        "colab": {
          "base_uri": "https://localhost:8080/"
        },
        "outputId": "e9860af7-ca35-426b-e4e3-77c2656c6f8c"
      },
      "source": [
        "# Print the 7 features selected by RFE in the previous step.\n",
        "rfe_features=X_train[major_features.keys()].columns[rfe1.support_]\n",
        "rfe_features"
      ],
      "execution_count": null,
      "outputs": [
        {
          "output_type": "execute_result",
          "data": {
            "text/plain": [
              "Index(['bathrooms', 'mainroad', 'guestroom', 'airconditioning', 'parking',\n",
              "       'prefarea', 'unfurnished'],\n",
              "      dtype='object')"
            ]
          },
          "metadata": {},
          "execution_count": 36
        }
      ]
    },
    {
      "cell_type": "code",
      "metadata": {
        "id": "D8SxpFJh7lFq",
        "colab": {
          "base_uri": "https://localhost:8080/"
        },
        "outputId": "9eaec719-4099-47c5-a4ce-71acf62f4245"
      },
      "source": [
        "# Build multiple linear regression model using all the features selected after RFE\n",
        "import statsmodels.api as sm\n",
        "\n",
        "\n",
        "X = df[rfe_features]\n",
        "y=df[\"price\"]\n",
        "X_train, X_test,y_train,y_test = train_test_split(X,y, test_size = 0.33, random_state = 42)\n",
        "\n",
        "sklearn_lin_reg=LinearRegression()\n",
        "sklearn_lin_reg.fit(X_train,y_train)\n",
        "print(sklearn_lin_reg.intercept_)\n",
        "print(sklearn_lin_reg.coef_)\n",
        "#\n",
        "\n",
        "# Split the DataFrame into the train and test sets such that test set has 33% of the values.\n",
        "\n",
        "\n",
        "# Build linear regression model using the 'sklearn.linear_model' module.\n",
        "\n",
        "\n",
        "# Print the value of the intercept\n",
        "\n",
        "\n",
        "# Print the names of the features along with the values of their corresponding coefficients.\n",
        "\n"
      ],
      "execution_count": null,
      "outputs": [
        {
          "output_type": "stream",
          "name": "stdout",
          "text": [
            "1345359.6611008313\n",
            "[1556331.09703073  770395.80086473  661976.52910048 1025562.07715225\n",
            "  428129.1133202   698073.89265709 -424295.92317738]\n"
          ]
        }
      ]
    },
    {
      "cell_type": "code",
      "metadata": {
        "id": "2TL6w_uf7lDH",
        "colab": {
          "base_uri": "https://localhost:8080/"
        },
        "outputId": "a6116e36-40e8-4608-fb5e-d80951409ec1"
      },
      "source": [
        "# Evaluate the linear regression model using the 'r2_score', 'mean_squared_error' & 'mean_absolute_error' functions of the 'sklearn' module.\n",
        "from sklearn.metrics import r2_score, mean_squared_error, mean_absolute_error\n",
        "\n",
        "y_train_pred = sklearn_lin_reg.predict(X_train)\n",
        "y_test_pred = sklearn_lin_reg.predict(X_test)\n",
        "\n",
        "print(f\"Train Set\\n{'-' * 50}\")\n",
        "print(f\"R-squared: {r2_score(y_train, y_train_pred):.3f}\")\n",
        "print(f\"Mean Squared Error: {mean_squared_error(y_train, y_train_pred):.3f}\")\n",
        "print(f\"Root Mean Squared Error: {np.sqrt(mean_squared_error(y_train, y_train_pred)):.3f}\")\n",
        "print(f\"Mean Absolute Error: {mean_absolute_error(y_train, y_train_pred):.3f}\")\n",
        "\n",
        "print(f\"\\n\\nTest Set\\n{'-' * 50}\")\n",
        "print(f\"R-squared: {r2_score(y_test, y_test_pred):.3f}\")\n",
        "print(f\"Mean Squared Error: {mean_squared_error(y_test, y_test_pred):.3f}\")\n",
        "print(f\"Root Mean Squared Error: {np.sqrt(mean_squared_error(y_test, y_test_pred)):.3f}\")\n",
        "print(f\"Mean Absolute Error: {mean_absolute_error(y_test, y_test_pred):.3f}\")"
      ],
      "execution_count": null,
      "outputs": [
        {
          "output_type": "stream",
          "name": "stdout",
          "text": [
            "Train Set\n",
            "--------------------------------------------------\n",
            "R-squared: 0.582\n",
            "Mean Squared Error: 1293627387054.370\n",
            "Root Mean Squared Error: 1137377.416\n",
            "Mean Absolute Error: 832458.404\n",
            "\n",
            "\n",
            "Test Set\n",
            "--------------------------------------------------\n",
            "R-squared: 0.546\n",
            "Mean Squared Error: 1945845160950.812\n",
            "Root Mean Squared Error: 1394935.540\n",
            "Mean Absolute Error: 1028596.997\n"
          ]
        }
      ]
    },
    {
      "cell_type": "code",
      "metadata": {
        "id": "mYF-WdWn8QmU",
        "colab": {
          "base_uri": "https://localhost:8080/",
          "height": 386
        },
        "outputId": "787515b6-3be4-48e6-d5a0-48fc462e49a8"
      },
      "source": [
        "# Create a histogram for the errors obtained in the predicted values for the train set.\n",
        "errors_train=y_train-y_train_pred\n",
        "\n",
        "\n",
        "plt.figure(figsize = (12, 4), dpi = 96)\n",
        "plt.hist(errors_train,bins=\"sturges\",edgecolor=\"Red\")\n",
        "\n",
        "plt.title(\"Histogram for Errors in the Prediction on Train Set\")\n",
        "plt.axvline(errors_train.mean(),label=errors_train.mean(),color=\"Red\")\n",
        "\n",
        "plt.xlabel(\"Train Set Errors\")\n",
        "plt.legend()\n",
        "plt.show()"
      ],
      "execution_count": null,
      "outputs": [
        {
          "output_type": "display_data",
          "data": {
            "image/png": "[encoded data removed]",
            "text/plain": [
              "<Figure size 1152x384 with 1 Axes>"
            ]
          },
          "metadata": {
            "needs_background": "light"
          }
        }
      ]
    },
    {
      "cell_type": "code",
      "metadata": {
        "id": "RJv_gr1N8T5U",
        "colab": {
          "base_uri": "https://localhost:8080/",
          "height": 386
        },
        "outputId": "5022b081-4f98-4695-d682-535621f6d822"
      },
      "source": [
        "# Create a histogram for the errors obtained in the predicted values for the test set.\n",
        "\n",
        "errors_test=y_test-y_test_pred\n",
        "\n",
        "\n",
        "plt.figure(figsize = (12, 4), dpi = 96)\n",
        "plt.hist(errors_test,bins=\"sturges\",edgecolor=\"Red\")\n",
        "\n",
        "plt.title(\"Histogram for Errors in the Prediction on Train Set\")\n",
        "plt.axvline(errors_test.mean(),label=errors_test.mean(),color=\"Red\")\n",
        "\n",
        "plt.xlabel(\"Test Set Errors\")\n",
        "plt.legend()\n",
        "plt.show()"
      ],
      "execution_count": null,
      "outputs": [
        {
          "output_type": "display_data",
          "data": {
            "image/png": "[encoded data removed]",
            "text/plain": [
              "<Figure size 1152x384 with 1 Axes>"
            ]
          },
          "metadata": {
            "needs_background": "light"
          }
        }
      ]
    },
    {
      "cell_type": "markdown",
      "metadata": {
        "id": "_-uMjpUMY932"
      },
      "source": [
        "---"
      ]
    },
    {
      "cell_type": "markdown",
      "metadata": {
        "id": "LMZN8NeX8rde"
      },
      "source": [
        "#### 8. Verify Homoscedasticity\n",
        "\n",
        "Check for Homoscedasticity (constant variance) by creating a scatter plot between the errors and the target variable. Determine whether there is some kind of relationship between the error and the target variable."
      ]
    },
    {
      "cell_type": "code",
      "metadata": {
        "id": "uptEDE578wjm",
        "colab": {
          "base_uri": "https://localhost:8080/",
          "height": 379
        },
        "outputId": "00589595-5d71-4c40-cbcd-b148973731a4"
      },
      "source": [
        "# Create a scatter plot between the errors and the dependent variable for the train set.\n",
        "plt.figure(figsize=(12,4),dpi=96)\n",
        "plt.scatter(y_train,errors_train)\n",
        "plt.axhline(errors_train.mean(),label=errors_train.mean(),color=\"Green\")\n",
        "plt.legend()\n",
        "plt.show()"
      ],
      "execution_count": null,
      "outputs": [
        {
          "output_type": "display_data",
          "data": {
            "image/png": "[encoded data removed]",
            "text/plain": [
              "<Figure size 1152x384 with 1 Axes>"
            ]
          },
          "metadata": {
            "needs_background": "light"
          }
        }
      ]
    },
    {
      "cell_type": "markdown",
      "metadata": {
        "id": "ydTo7_b5JMpu"
      },
      "source": [
        "---"
      ]
    },
    {
      "cell_type": "markdown",
      "metadata": {
        "id": "WS4vTi_EAsC5"
      },
      "source": [
        "---"
      ]
    }
  ]
}